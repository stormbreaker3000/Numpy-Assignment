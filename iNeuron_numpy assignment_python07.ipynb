{
 "cells": [
  {
   "cell_type": "markdown",
   "metadata": {},
   "source": [
    "Course : MACHINE LEARNING WITH DEPLOYMENT AND DEEP LEARNING"
   ]
  },
  {
   "cell_type": "markdown",
   "metadata": {},
   "source": [
    "Numpy Assignment - By Subham Bagchi"
   ]
  },
  {
   "cell_type": "markdown",
   "metadata": {},
   "source": [
    "1. Write a function so that the columns of the output matrix are powers of the input\n",
    "   vector.\n",
    "   The order of the powers is determined by the increasing boolean argument. Specifically, when\n",
    "   increasing is False, the i-th output column is the input vector raised element-wise to the power\n",
    "   of N - i - 1.\n",
    "   HINT: Such a matrix with a geometric progression in each row is named for Alexandre-\n",
    "         Theophile Vandermonde."
   ]
  },
  {
   "cell_type": "code",
   "execution_count": 27,
   "metadata": {},
   "outputs": [
    {
     "name": "stdout",
     "output_type": "stream",
     "text": [
      "Vander matrix in decreasing order of powers\n",
      "--------------------------------------------------\n",
      "[[  1   1   1   1   1]\n",
      " [ 16   8   4   2   1]\n",
      " [ 81  27   9   3   1]\n",
      " [256  64  16   4   1]\n",
      " [625 125  25   5   1]]\n",
      "\n",
      "\n",
      "Vander matrix in increasing order of powers\n",
      "--------------------------------------------------\n",
      "[[  1   1   1   1   1]\n",
      " [  1   2   4   8  16]\n",
      " [  1   3   9  27  81]\n",
      " [  1   4  16  64 256]\n",
      " [  1   5  25 125 625]]\n"
     ]
    }
   ],
   "source": [
    "import numpy as np\n",
    "\n",
    "def vander_mat(l,n,increasing=False):\n",
    "    \n",
    "    if increasing:\n",
    "        p = np.array([j**i for j in l for i in range(n)]).reshape(len(l),n)\n",
    "    else:\n",
    "        p = np.array([j**(n-i-1) for j in l for i in range(n)]).reshape(len(l),n)\n",
    "    return p\n",
    "\n",
    "list1 = [1,2,3,4,5]\n",
    "n1 = 5\n",
    "out_dec_mat = vander_mat(list1,n1,False)\n",
    "out_inc_mat = vander_mat(list1,n1,increasing=True)\n",
    "\n",
    "print('Vander matrix in decreasing order of powers')\n",
    "print('-'*50)\n",
    "print(out_dec_mat)\n",
    "print('\\n')\n",
    "\n",
    "print('Vander matrix in increasing order of powers')\n",
    "print('-'*50)\n",
    "print(out_inc_mat)\n",
    "            "
   ]
  },
  {
   "cell_type": "markdown",
   "metadata": {},
   "source": [
    "2. Given a sequence of n values x1, x2, ..., xn and a window size k>0, the k-th moving average of\n",
    "   the given sequence is defined as follows:\n",
    " \n",
    " The moving average sequence has n-k+1 elements as shown below.\n",
    " \n",
    " The moving averages with k=4 of a ten-value sequence (n=10) is shown below\n",
    " \n",
    " i 1 2 3 4 5 6 7 8 9 10\n",
    " \n",
    " Input 10 20 30 40 50 60 70 80 90 100\n",
    " \n",
    "   y1 25 = (10+20+30+40)/4\n",
    "   \n",
    "   y2 35 = (20+30+40+50)/4\n",
    "   \n",
    "   y3 45 = (30+40+50+60)/4\n",
    "   \n",
    "   y4 55 = (40+50+60+70)/4\n",
    "   \n",
    "   y5 65 = (50+60+70+80)/4\n",
    "   \n",
    "   y6 75 = (60+70+80+90)/4\n",
    "   \n",
    "   y7 85 = (70+80+90+100)/4\n",
    "\n",
    " Thus, the moving average sequence has n-k+1=10-4+1=7 values.\n",
    " \n",
    " Write a function to find moving average in an array over a window:\n",
    "Test it over [3, 5, 7, 2, 8, 10, 11, 65, 72, 81, 99, 100, 150] and window of 3.\n",
    "  "
   ]
  },
  {
   "cell_type": "code",
   "execution_count": 61,
   "metadata": {},
   "outputs": [
    {
     "name": "stdout",
     "output_type": "stream",
     "text": [
      "Moving Average values :  [5.0, 4.67, 5.67, 6.67, 9.67, 28.67, 49.33, 72.67, 84.0, 93.33, 116.33]\n",
      "\n",
      "\n",
      "Length of list :  11\n"
     ]
    }
   ],
   "source": [
    "def moving_average(l,n):\n",
    "    result = []\n",
    "    for i in range(len(l)):\n",
    "        if i <= len(l)-n :\n",
    "            result.append((l[i]+l[i+1]+l[i+2])/n)\n",
    "        else:\n",
    "            break\n",
    "    return result\n",
    "\n",
    "list1 = [3, 5, 7, 2, 8, 10, 11, 65, 72, 81, 99, 100, 150]\n",
    "N = 3\n",
    "k = len(list1)-N+1\n",
    "p = moving_average(list1,N)\n",
    "t = np.round(p,2)\n",
    "print('Moving Average values : ', list(t))\n",
    "print('\\n')\n",
    "print('Length of list : ',k)\n",
    "        "
   ]
  },
  {
   "cell_type": "code",
   "execution_count": null,
   "metadata": {},
   "outputs": [],
   "source": []
  }
 ],
 "metadata": {
  "kernelspec": {
   "display_name": "Python 3",
   "language": "python",
   "name": "python3"
  },
  "language_info": {
   "codemirror_mode": {
    "name": "ipython",
    "version": 3
   },
   "file_extension": ".py",
   "mimetype": "text/x-python",
   "name": "python",
   "nbconvert_exporter": "python",
   "pygments_lexer": "ipython3",
   "version": "3.7.3"
  }
 },
 "nbformat": 4,
 "nbformat_minor": 2
}
